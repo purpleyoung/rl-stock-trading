{
 "cells": [
  {
   "cell_type": "code",
   "execution_count": 1,
   "metadata": {},
   "outputs": [],
   "source": [
    "import os\n",
    "import sys\n",
    "sys.path.append(\"../source/\")\n",
    "\n",
    "from preproc.preproc import Preprocessor"
   ]
  },
  {
   "cell_type": "markdown",
   "metadata": {},
   "source": [
    "### 1. Declare data preprocessor"
   ]
  },
  {
   "cell_type": "code",
   "execution_count": 2,
   "metadata": {},
   "outputs": [],
   "source": [
    "# Parameters\n",
    "TARGET_TICKER_LIST = [\"AAPL\", \"AXP\"]\n",
    "CSV_INPUT_FILE_NAME = \"../../assets/dataset/dow30_2009_to_2020_adjusted.csv\"\n",
    "CSV_OUTPUT_FILE_NAME = \"../../assets/dataset/dow30_2009_to_2020_preproc.csv\"\n",
    "\n",
    "# Declare datat loader\n",
    "preprocessor = Preprocessor(\n",
    "    technical_indicator_list=[\"macd\", \"rsi_30\", \"cci_30\", \"dx_30\"],\n",
    "    user_defined_features=dict(),\n",
    "    b_use_technical_indicator=True,\n",
    "    b_use_volatility_index=True,\n",
    "    b_use_turbulence_index=True,\n",
    "    b_use_user_defined_index=False\n",
    ")"
   ]
  },
  {
   "cell_type": "markdown",
   "metadata": {},
   "source": [
    "### 2-1. Load dataset from .csv file or from Yahoo Finance API"
   ]
  },
  {
   "cell_type": "code",
   "execution_count": 3,
   "metadata": {},
   "outputs": [],
   "source": [
    "# Load csv dataset\n",
    "#dataset = preprocessor.load_csv(\n",
    "#    tickers=TARGET_TICKER_LIST,\n",
    "#    file_name=CSV_INPUT_FILE_NAME, \n",
    "#    b_adjusted=True\n",
    "#)\n"
   ]
  },
  {
   "cell_type": "markdown",
   "metadata": {},
   "source": [
    "### 2-2. Load dataset from Yahool Finance API"
   ]
  },
  {
   "cell_type": "code",
   "execution_count": 4,
   "metadata": {},
   "outputs": [
    {
     "name": "stdout",
     "output_type": "stream",
     "text": [
      "[*********************100%***********************]  1 of 1 completed\n",
      "[*********************100%***********************]  1 of 1 completed\n"
     ]
    }
   ],
   "source": [
    "dataset = preprocessor.load_yahoo_finance(\n",
    "    tickers=TARGET_TICKER_LIST,\n",
    "    start_date=\"20090101\",\n",
    "    end_date=\"20201231\"\n",
    ")"
   ]
  },
  {
   "cell_type": "markdown",
   "metadata": {},
   "source": [
    "### 3. Apply data preprocessing"
   ]
  },
  {
   "cell_type": "code",
   "execution_count": 5,
   "metadata": {},
   "outputs": [
    {
     "name": "stdout",
     "output_type": "stream",
     "text": [
      "Append technical indicators\n",
      "Append volatility index (VIX)\n",
      "[*********************100%***********************]  1 of 1 completed\n",
      "Append turbulence index\n",
      "Append user-defined-feature\n"
     ]
    }
   ],
   "source": [
    "# Apply preprocssing\n",
    "dataset = preprocessor.apply(dataset)"
   ]
  },
  {
   "cell_type": "markdown",
   "metadata": {},
   "source": [
    "### 4. Save preprocessed dataset as .csv file"
   ]
  },
  {
   "cell_type": "code",
   "execution_count": 6,
   "metadata": {},
   "outputs": [
    {
     "name": "stdout",
     "output_type": "stream",
     "text": [
      "       date   tic       open       high        low      adjcp      volume  \\\n",
      "0  20081231  AAPL   3.070357   3.133571   3.047857   2.610108   607541200   \n",
      "1  20081231   AXP  17.969999  18.750000  17.910000  14.950785     9625600   \n",
      "2  20090102  AAPL   3.067143   3.251429   3.041429   2.775246   746015200   \n",
      "3  20090102   AXP  18.570000  19.520000  18.400000  15.579448    10955700   \n",
      "4  20090105  AAPL   3.327500   3.435000   3.311071   2.892372  1181608400   \n",
      "\n",
      "       macd  rsi_30      cci_30  dx_30        vix  turbulence  \n",
      "0  0.000000   100.0   66.666667  100.0  40.000000         0.0  \n",
      "1  0.000000   100.0   66.666667  100.0  40.000000         0.0  \n",
      "2  0.003705   100.0   66.666667  100.0  39.189999         0.0  \n",
      "3  0.014105   100.0   66.666667  100.0  39.189999         0.0  \n",
      "4  0.008353   100.0  100.000000  100.0  39.080002         0.0  \n"
     ]
    }
   ],
   "source": [
    "# Save preprocessed dataset\n",
    "preprocessor.save_csv(dataset, CSV_OUTPUT_FILE_NAME)\n",
    "\n",
    "print(dataset.head(5))"
   ]
  }
 ],
 "metadata": {
  "kernelspec": {
   "display_name": "Python 3",
   "language": "python",
   "name": "python3"
  },
  "language_info": {
   "codemirror_mode": {
    "name": "ipython",
    "version": 3
   },
   "file_extension": ".py",
   "mimetype": "text/x-python",
   "name": "python",
   "nbconvert_exporter": "python",
   "pygments_lexer": "ipython3",
   "version": "3.7.4"
  }
 },
 "nbformat": 4,
 "nbformat_minor": 2
}
